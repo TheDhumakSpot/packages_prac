{
 "cells": [
  {
   "cell_type": "code",
   "execution_count": null,
   "id": "7b9cc1da",
   "metadata": {},
   "outputs": [],
   "source": [
    "#This is the file where we type all main code , others modules are stored in other files "
   ]
  },
  {
   "cell_type": "markdown",
   "id": "40a81961",
   "metadata": {},
   "source": [
    "## Program to demonstrate usage of Packages"
   ]
  },
  {
   "cell_type": "code",
   "execution_count": 2,
   "id": "eb039aba",
   "metadata": {},
   "outputs": [],
   "source": [
    "from simple_packages import a_ninad , b_ninad"
   ]
  },
  {
   "cell_type": "code",
   "execution_count": 3,
   "id": "95f37dfa",
   "metadata": {},
   "outputs": [
    {
     "name": "stdout",
     "output_type": "stream",
     "text": [
      "Hello, function nbar() from module a_ninad is calling\n",
      "Hello, function nfoo() from module b_ninad is calling\n"
     ]
    }
   ],
   "source": [
    "a_ninad.nbar()   #here a_ninad is file name and nbar() is function name\n",
    "b_ninad.nfoo()"
   ]
  },
  {
   "cell_type": "code",
   "execution_count": 4,
   "id": "19613d18",
   "metadata": {},
   "outputs": [
    {
     "name": "stdout",
     "output_type": "stream",
     "text": [
      "Hello, function nbar() from module a_ninad is calling\n",
      "Hello, function nfoo() from module b_ninad is calling\n"
     ]
    }
   ],
   "source": [
    "#another method\n",
    "import simple_packages\n",
    "simple_packages.a_ninad.nbar()\n",
    "simple_packages.b_ninad.nfoo()"
   ]
  },
  {
   "cell_type": "code",
   "execution_count": null,
   "id": "7fe44871",
   "metadata": {},
   "outputs": [],
   "source": [
    "import requests\n",
    "ninad=requests.get(......)    #\"......\" means the link of an organisation or company whose data we want\n",
    "ninad.status_code\n",
    "\n",
    "#output is any number , since we want status_code, here we can ask for any data"
   ]
  },
  {
   "cell_type": "code",
   "execution_count": null,
   "id": "3fb69a20",
   "metadata": {},
   "outputs": [],
   "source": [
    "print(ninad.headers)\n",
    "print(ninad.encoding)"
   ]
  },
  {
   "cell_type": "code",
   "execution_count": null,
   "id": "58358867",
   "metadata": {},
   "outputs": [],
   "source": [
    "in ninad.headers ---> large data is displays ,that includes content_type, bytes etc.\n",
    "in ninad.encoding---> 'ISO-8859-1' is displayed "
   ]
  }
 ],
 "metadata": {
  "kernelspec": {
   "display_name": "Python 3 (ipykernel)",
   "language": "python",
   "name": "python3"
  },
  "language_info": {
   "codemirror_mode": {
    "name": "ipython",
    "version": 3
   },
   "file_extension": ".py",
   "mimetype": "text/x-python",
   "name": "python",
   "nbconvert_exporter": "python",
   "pygments_lexer": "ipython3",
   "version": "3.9.12"
  }
 },
 "nbformat": 4,
 "nbformat_minor": 5
}

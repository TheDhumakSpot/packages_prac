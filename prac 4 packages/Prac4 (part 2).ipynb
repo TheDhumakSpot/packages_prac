{
 "cells": [
  {
   "cell_type": "code",
   "execution_count": 3,
   "id": "879eab30",
   "metadata": {},
   "outputs": [],
   "source": [
    "from Cars import N_Audi , N_Bmw , N_Nissan"
   ]
  },
  {
   "cell_type": "code",
   "execution_count": 5,
   "id": "b95c83b4",
   "metadata": {},
   "outputs": [],
   "source": [
    "# 2nd method to import\n",
    "from Cars import N_Audi\n",
    "from Cars import N_Bmw\n",
    "from Cars import N_Nissan"
   ]
  },
  {
   "cell_type": "code",
   "execution_count": 6,
   "id": "cb51de29",
   "metadata": {},
   "outputs": [
    {
     "name": "stdout",
     "output_type": "stream",
     "text": [
      "These are the available models for N_Bmw\n",
      "\ti8 \n",
      "\tx1 \n",
      "\tx5 \n",
      "\tx6 \n"
     ]
    }
   ],
   "source": [
    "# Create an object of N_Bmw class & call its method\n",
    "ModBMW = N_Bmw.N_Bmw()   #The 1st N_Bmw is folder and 2nd is main class,() is defined func\n",
    "ModBMW.outModels()"
   ]
  },
  {
   "cell_type": "code",
   "execution_count": 8,
   "id": "81221380",
   "metadata": {},
   "outputs": [
    {
     "name": "stdout",
     "output_type": "stream",
     "text": [
      "These are the available models for N_Audi\n",
      "\tq7 \n",
      "\ta6 \n",
      "\ta8 \n",
      "\ta3 \n"
     ]
    }
   ],
   "source": [
    "# Create an object of N_Audi class & call its method\n",
    "ModAUDI = N_Audi.N_Audi()   #modAUDI can be any variable\n",
    "ModAUDI.outModels()"
   ]
  },
  {
   "cell_type": "code",
   "execution_count": 9,
   "id": "f9aec14c",
   "metadata": {},
   "outputs": [
    {
     "name": "stdout",
     "output_type": "stream",
     "text": [
      "These are the available models for N_Nissan\n",
      "\taltima \n",
      "\t370z \n",
      "\tcube \n",
      "\trogue \n"
     ]
    }
   ],
   "source": [
    "# Create an object of N_Nissan class & call its method\n",
    "ModNissan = N_Nissan.N_Nissan()    #2nd N_Nissan is a class,therefore it has () \n",
    "ModNissan.outModels()     #out.Models() is the 2nd func defined inside each file"
   ]
  }
 ],
 "metadata": {
  "kernelspec": {
   "display_name": "Python 3 (ipykernel)",
   "language": "python",
   "name": "python3"
  },
  "language_info": {
   "codemirror_mode": {
    "name": "ipython",
    "version": 3
   },
   "file_extension": ".py",
   "mimetype": "text/x-python",
   "name": "python",
   "nbconvert_exporter": "python",
   "pygments_lexer": "ipython3",
   "version": "3.9.12"
  }
 },
 "nbformat": 4,
 "nbformat_minor": 5
}
